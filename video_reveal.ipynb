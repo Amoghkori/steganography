{
  "nbformat": 4,
  "nbformat_minor": 0,
  "metadata": {
    "colab": {
      "name": "video_reveal.ipynb",
      "provenance": [],
      "collapsed_sections": [],
      "mount_file_id": "1ez6N60gVRBYpU00k2myF57pxxypGV7EM",
      "authorship_tag": "ABX9TyMvN7sCQSe8HZpi51lSe8E8",
      "include_colab_link": true
    },
    "kernelspec": {
      "name": "python3",
      "display_name": "Python 3"
    },
    "language_info": {
      "name": "python"
    }
  },
  "cells": [
    {
      "cell_type": "markdown",
      "metadata": {
        "id": "view-in-github",
        "colab_type": "text"
      },
      "source": [
        "<a href=\"https://colab.research.google.com/github/Amoghkori/steganography/blob/main/video_reveal.ipynb\" target=\"_parent\"><img src=\"https://colab.research.google.com/assets/colab-badge.svg\" alt=\"Open In Colab\"/></a>"
      ]
    },
    {
      "cell_type": "code",
      "metadata": {
        "id": "IGPUfmW5S1N0"
      },
      "source": [
        "import os\n",
        "import numpy as np\n",
        "import keras\n",
        "import cv2\n",
        "import sys\n",
        "import math\n",
        "from keras.models import Model\n",
        "from keras.models import load_model\n",
        "from PIL import Image\n",
        "import argparse\n",
        "from keras.preprocessing.image import save_img\n",
        "from skimage.util.shape import view_as_blocks\n"
      ],
      "execution_count": null,
      "outputs": []
    },
    {
      "cell_type": "code",
      "metadata": {
        "id": "ZiQDm8QETGgs"
      },
      "source": [
        "def normalize_batch(imgs):\n",
        "    return (imgs -  np.array([0.485, 0.456, 0.406])) /np.array([0.229, 0.224, 0.225])\n",
        "\n",
        "# Denormalize output images                                                        \n",
        "def denormalize_batch(imgs,should_clip=True):\n",
        "    imgs= (imgs * np.array([0.229, 0.224, 0.225])) + np.array([0.485, 0.456, 0.406])\n",
        "    \n",
        "    if should_clip:\n",
        "        imgs= np.clip(imgs,0,1)\n",
        "    return imgs\n"
      ],
      "execution_count": null,
      "outputs": []
    },
    {
      "cell_type": "code",
      "metadata": {
        "id": "JOTpctk5TN9A"
      },
      "source": [
        "def shuffle(im, inverse = False):\n",
        "  \n",
        "  # Configure block size, rows and columns\n",
        "  blk_size=56\n",
        "  rows=np.uint8(img.shape[0]/blk_size)\n",
        "  cols=np.uint8(img.shape[1]/blk_size)\n",
        "\n",
        "  # Create a block view on image\n",
        "  img_blks=view_as_blocks(im,block_shape=(blk_size,blk_size,3)).squeeze()\n",
        "  img_shuff=np.zeros((img.shape[0],img.shape[1],3),dtype=np.uint8)\n",
        "\n",
        "  # Secret key maps\n",
        "  map={0:2, 1:0, 2:3, 3:1}\n",
        "  inv_map = {v: k for k, v in map.items()}\n",
        "\n",
        "  # Perform block shuffling\n",
        "  for i in range(0,rows):\n",
        "    for j in range(0,cols):\n",
        "     x,y = i*blk_size, j*blk_size\n",
        "     if(inverse):\n",
        "      img_shuff[x:x+blk_size, y:y+blk_size] = img_blks[inv_map[i],inv_map[j]]\n",
        "     else:\n",
        "      img_shuff[x:x+blk_size, y:y+blk_size] = img_blks[map[i],map[j]]\n",
        "      \n",
        "  return img_shuff\n",
        "\n",
        "# Update progress bar\n",
        "def update_progress(current_frame, total_frames):\n",
        "    progress=math.ceil((current_frame/total_frames)*100)\n",
        "    sys.stdout.write('\\rProgress: [{0}] {1}%'.format('>'*math.ceil(progress/10), progress))\n",
        "    "
      ],
      "execution_count": null,
      "outputs": []
    },
    {
      "cell_type": "code",
      "metadata": {
        "id": "W3Z0LMwJTc4s"
      },
      "source": [
        "model=load_model(\"/content/drive/MyDrive/models_mix/reveal2.h5\",compile=False)"
      ],
      "execution_count": null,
      "outputs": []
    },
    {
      "cell_type": "code",
      "metadata": {
        "id": "o2-tU9XmZjYg"
      },
      "source": [
        "import cv2\n",
        "vidcap = cv2.VideoCapture(\"/content/container_video_out.mp4\")\n",
        "fourcc = cv2.VideoWriter_fourcc('M', 'P', '4', 'V')\n",
        "out = cv2.VideoWriter('secret_video_out.mp4', fourcc, 20, (224,224))\n",
        "while(vidcap.isOpened()):\n",
        "  ret,img=vidcap.read()\n",
        "  if ret==True:\n",
        "    img1=cv2.resize(img,(224,224))\n",
        "    cover = (cv2.cvtColor(img1, cv2.COLOR_BGR2RGB)).reshape(1,224,224,3)/255.0\n",
        "    secretout=model.predict([normalize_batch(cover)])\n",
        "       \n",
        "            # Postprocess secret image output\n",
        "    secretout=denormalize_batch(secretout)\n",
        "    secretout=np.squeeze(secretout)*255.0\n",
        "    secretout=np.uint8(secretout)\n",
        "    out.write(secretout)\n",
        "    if cv2.waitKey(1) & 0xFF==ord(\"q\"):\n",
        "      break\n",
        "  else:\n",
        "    break\n",
        "vidcap.release()\n",
        "out.release()\n",
        "cv2.destroyAllWindows()\n"
      ],
      "execution_count": null,
      "outputs": []
    }
  ]
}