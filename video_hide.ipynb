{
  "nbformat": 4,
  "nbformat_minor": 0,
  "metadata": {
    "colab": {
      "name": "video_hide.ipynb",
      "provenance": [],
      "collapsed_sections": [],
      "mount_file_id": "1cjl1UNfOiDzVd_PZ7LObu1R75GJLI61s",
      "authorship_tag": "ABX9TyP995Pf7LF+mtAQ9NzCcWkv",
      "include_colab_link": true
    },
    "kernelspec": {
      "name": "python3",
      "display_name": "Python 3"
    },
    "language_info": {
      "name": "python"
    }
  },
  "cells": [
    {
      "cell_type": "markdown",
      "metadata": {
        "id": "view-in-github",
        "colab_type": "text"
      },
      "source": [
        "<a href=\"https://colab.research.google.com/github/Amoghkori/steganography/blob/main/video_hide.ipynb\" target=\"_parent\"><img src=\"https://colab.research.google.com/assets/colab-badge.svg\" alt=\"Open In Colab\"/></a>"
      ]
    },
    {
      "cell_type": "code",
      "metadata": {
        "id": "XmUg-hoeSrjr"
      },
      "source": [
        "import os\n",
        "import numpy as np\n",
        "import keras\n",
        "import cv2\n",
        "import math\n",
        "import sys\n",
        "from keras.models import Model\n",
        "from keras.models import load_model\n",
        "from PIL import Image\n",
        "import argparse\n",
        "from keras.preprocessing.image import save_img\n",
        "from skimage.util.shape import view_as_blocks"
      ],
      "execution_count": null,
      "outputs": []
    },
    {
      "cell_type": "code",
      "metadata": {
        "id": "ZN_XuqWmS1Gg"
      },
      "source": [
        "def normalize_batch(imgs):\n",
        "    return (imgs -  np.array([0.485, 0.456, 0.406])) /np.array([0.229, 0.224, 0.225])\n",
        "\n",
        "# Denormalize output images                                                        \n",
        "def denormalize_batch(imgs,should_clip=True):\n",
        "    imgs= (imgs * np.array([0.229, 0.224, 0.225])) + np.array([0.485, 0.456, 0.406])\n",
        "    \n",
        "    if should_clip:\n",
        "        imgs= np.clip(imgs,0,1)\n",
        "    return imgs\n",
        "\n",
        "# Custom block shuffling\n",
        "def shuffle(im, inverse = False):\n",
        "  \n",
        "  # Configure block size, rows and columns\n",
        "  blk_size=56\n",
        "  rows=np.uint8(img.shape[0]/blk_size)\n",
        "  cols=np.uint8(img.shape[1]/blk_size)\n",
        "\n",
        "  # Create a block view on image\n",
        "  img_blks=view_as_blocks(im,block_shape=(blk_size,blk_size,3)).squeeze()\n",
        "  img_shuff=np.zeros((img.shape[0],img.shape[1],3),dtype=np.uint8)\n",
        "\n",
        "  # Secret key maps\n",
        "  map={0:2, 1:0, 2:3, 3:1}\n",
        "  inv_map = {v: k for k, v in map.items()}\n",
        "\n",
        "  # Perform block shuffling\n",
        "  for i in range(0,rows):\n",
        "    for j in range(0,cols):\n",
        "     x,y = i*blk_size, j*blk_size\n",
        "     if(inverse):\n",
        "      img_shuff[x:x+blk_size, y:y+blk_size] = img_blks[inv_map[i],inv_map[j]]\n",
        "     else:\n",
        "      img_shuff[x:x+blk_size, y:y+blk_size] = img_blks[map[i],map[j]]\n",
        "      \n",
        "  return img_shuff\n"
      ],
      "execution_count": null,
      "outputs": []
    },
    {
      "cell_type": "code",
      "metadata": {
        "id": "x3jc_nfUUoEZ"
      },
      "source": [
        "def update_progress(current_frame, total_frames):\n",
        "    progress=math.ceil((current_frame/total_frames)*100)\n",
        "    sys.stdout.write('\\rProgress: [{0}] {1}%'.format('>'*math.ceil(progress/10), progress))"
      ],
      "execution_count": null,
      "outputs": []
    },
    {
      "cell_type": "code",
      "metadata": {
        "id": "gQ-n8mZ4U7fR"
      },
      "source": [
        "model=load_model(\"/content/drive/MyDrive/models_mix/hide2.h5\",compile=False)"
      ],
      "execution_count": null,
      "outputs": []
    },
    {
      "cell_type": "code",
      "metadata": {
        "id": "w9llkU9vvfso"
      },
      "source": [
        "import cv2\n",
        "vidcap1 = cv2.VideoCapture(\"/content/drive/MyDrive/secret_video_up.mp4\")\n",
        "vidcap2 = cv2.VideoCapture(\"/content/drive/MyDrive/cover_video_up.mp4\")\n",
        "from google.colab.patches import cv2_imshow\n",
        "fourcc = cv2.VideoWriter_fourcc('M', 'P', '4', 'V')\n",
        "out = cv2.VideoWriter('container_video_out.mp4', fourcc, 20, (224,224))\n",
        "while(vidcap1.isOpened()):\n",
        "  ret1,img1=vidcap1.read()\n",
        "  ret2,img2=vidcap2.read()\n",
        "  if ret1==True:\n",
        "    img3=cv2.resize(img1,(224,224)).reshape(1,224,224,3)/255.0\n",
        "    img4=cv2.resize(img2,(224,224)).reshape(1,224,224,3)/255.0\n",
        "    secret = img3\n",
        "    cover = img4\n",
        "    coverout=model.predict([normalize_batch(secret),normalize_batch(cover)])\n",
        "       \n",
        "            # Postprocess secret image output\n",
        "    coverout = denormalize_batch(coverout)\n",
        "    coverout=np.squeeze(coverout)*255.0\n",
        "    coverout=np.uint8(coverout)\n",
        "    out.write(coverout)\n",
        "    if cv2.waitKey(1) & 0xFF==ord(\"q\"):\n",
        "      break\n",
        "  else:\n",
        "    break\n",
        "vidcap1.release()\n",
        "vidcap2.release()\n",
        "out.release()\n",
        "cv2.destroyAllWindows()\n"
      ],
      "execution_count": null,
      "outputs": []
    }
  ]
}